{
 "cells": [
  {
   "cell_type": "markdown",
   "metadata": {},
   "source": [
    "# RFM-анализ"
   ]
  },
  {
   "cell_type": "markdown",
   "metadata": {},
   "source": [
    "## Выбор и подготовка данных"
   ]
  },
  {
   "cell_type": "code",
   "execution_count": 1,
   "metadata": {},
   "outputs": [],
   "source": [
    "import pandas as pd\n",
    "import numpy as np\n",
    "import seaborn as sns\n",
    "import matplotlib.pyplot as plt\n",
    "import matplotlib.mlab as mlab\n",
    "import matplotlib\n",
    "import datetime as dt"
   ]
  },
  {
   "cell_type": "markdown",
   "metadata": {},
   "source": [
    "RFM-анализ - сегментация клиентской базы на основе трёх параметров: *Recency*, *Frequency* и *Monetary value*. На основе этих значений клиентская база делится на сегменты. В нашем случае их будет 27. Получить нужную информацию мы можем из файла `fourth_case_demographics.csv`."
   ]
  },
  {
   "cell_type": "code",
   "execution_count": 2,
   "metadata": {},
   "outputs": [
    {
     "data": {
      "text/html": [
       "<div>\n",
       "<style scoped>\n",
       "    .dataframe tbody tr th:only-of-type {\n",
       "        vertical-align: middle;\n",
       "    }\n",
       "\n",
       "    .dataframe tbody tr th {\n",
       "        vertical-align: top;\n",
       "    }\n",
       "\n",
       "    .dataframe thead th {\n",
       "        text-align: right;\n",
       "    }\n",
       "</style>\n",
       "<table border=\"1\" class=\"dataframe\">\n",
       "  <thead>\n",
       "    <tr style=\"text-align: right;\">\n",
       "      <th></th>\n",
       "      <th>Unnamed: 0</th>\n",
       "      <th>id</th>\n",
       "      <th>gender</th>\n",
       "      <th>birthday</th>\n",
       "      <th>age</th>\n",
       "      <th>agreement_status</th>\n",
       "      <th>renewal_agreement_status</th>\n",
       "      <th>sequence_agreement_number</th>\n",
       "      <th>expense_all</th>\n",
       "      <th>expense_in_contract</th>\n",
       "      <th>visits_on_contract</th>\n",
       "      <th>saledate</th>\n",
       "      <th>enddate</th>\n",
       "    </tr>\n",
       "  </thead>\n",
       "  <tbody>\n",
       "    <tr>\n",
       "      <th>0</th>\n",
       "      <td>0</td>\n",
       "      <td>10ca99cf-d74c-4424</td>\n",
       "      <td>Мужской</td>\n",
       "      <td>1974-12-15T00:00:00</td>\n",
       "      <td>48</td>\n",
       "      <td>Активен</td>\n",
       "      <td>Не продлено</td>\n",
       "      <td>2</td>\n",
       "      <td>29655.72</td>\n",
       "      <td>2655.72</td>\n",
       "      <td>10</td>\n",
       "      <td>2022-12-31T19:42:35</td>\n",
       "      <td>2024-03-30T23:59:59</td>\n",
       "    </tr>\n",
       "    <tr>\n",
       "      <th>1</th>\n",
       "      <td>1</td>\n",
       "      <td>ecce2112-0f09-409a</td>\n",
       "      <td>Женский</td>\n",
       "      <td>1979-10-03T00:00:00</td>\n",
       "      <td>43</td>\n",
       "      <td>Активен</td>\n",
       "      <td>Не продлено</td>\n",
       "      <td>1</td>\n",
       "      <td>7693.14</td>\n",
       "      <td>7693.14</td>\n",
       "      <td>11</td>\n",
       "      <td>2022-12-31T18:17:45</td>\n",
       "      <td>2024-02-16T23:59:59</td>\n",
       "    </tr>\n",
       "    <tr>\n",
       "      <th>2</th>\n",
       "      <td>2</td>\n",
       "      <td>cefeeaf5-0001-4364</td>\n",
       "      <td>Мужской</td>\n",
       "      <td>1976-03-24T00:00:00</td>\n",
       "      <td>47</td>\n",
       "      <td>Активен</td>\n",
       "      <td>Не продлено</td>\n",
       "      <td>1</td>\n",
       "      <td>6953.18</td>\n",
       "      <td>6953.18</td>\n",
       "      <td>19</td>\n",
       "      <td>2022-12-31T18:12:07</td>\n",
       "      <td>2024-01-31T23:59:59</td>\n",
       "    </tr>\n",
       "    <tr>\n",
       "      <th>3</th>\n",
       "      <td>3</td>\n",
       "      <td>4ae2eee8-d209-4e94</td>\n",
       "      <td>Женский</td>\n",
       "      <td>1972-01-03T00:00:00</td>\n",
       "      <td>51</td>\n",
       "      <td>Активен</td>\n",
       "      <td>Не продлено</td>\n",
       "      <td>6</td>\n",
       "      <td>78130.36</td>\n",
       "      <td>22930.36</td>\n",
       "      <td>18</td>\n",
       "      <td>2022-12-31T18:04:05</td>\n",
       "      <td>2024-02-25T23:59:59</td>\n",
       "    </tr>\n",
       "    <tr>\n",
       "      <th>4</th>\n",
       "      <td>4</td>\n",
       "      <td>e5f22aa5-2e12-4056</td>\n",
       "      <td>Мужской</td>\n",
       "      <td>1992-11-15T00:00:00</td>\n",
       "      <td>30</td>\n",
       "      <td>Активен</td>\n",
       "      <td>Не продлено</td>\n",
       "      <td>2</td>\n",
       "      <td>58256.36</td>\n",
       "      <td>24756.36</td>\n",
       "      <td>9</td>\n",
       "      <td>2022-12-31T17:41:21</td>\n",
       "      <td>2024-01-13T23:59:59</td>\n",
       "    </tr>\n",
       "  </tbody>\n",
       "</table>\n",
       "</div>"
      ],
      "text/plain": [
       "   Unnamed: 0                  id   gender             birthday  age  \\\n",
       "0           0  10ca99cf-d74c-4424  Мужской  1974-12-15T00:00:00   48   \n",
       "1           1  ecce2112-0f09-409a  Женский  1979-10-03T00:00:00   43   \n",
       "2           2  cefeeaf5-0001-4364  Мужской  1976-03-24T00:00:00   47   \n",
       "3           3  4ae2eee8-d209-4e94  Женский  1972-01-03T00:00:00   51   \n",
       "4           4  e5f22aa5-2e12-4056  Мужской  1992-11-15T00:00:00   30   \n",
       "\n",
       "  agreement_status renewal_agreement_status  sequence_agreement_number  \\\n",
       "0          Активен              Не продлено                          2   \n",
       "1          Активен              Не продлено                          1   \n",
       "2          Активен              Не продлено                          1   \n",
       "3          Активен              Не продлено                          6   \n",
       "4          Активен              Не продлено                          2   \n",
       "\n",
       "   expense_all  expense_in_contract  visits_on_contract             saledate  \\\n",
       "0     29655.72              2655.72                  10  2022-12-31T19:42:35   \n",
       "1      7693.14              7693.14                  11  2022-12-31T18:17:45   \n",
       "2      6953.18              6953.18                  19  2022-12-31T18:12:07   \n",
       "3     78130.36             22930.36                  18  2022-12-31T18:04:05   \n",
       "4     58256.36             24756.36                   9  2022-12-31T17:41:21   \n",
       "\n",
       "               enddate  \n",
       "0  2024-03-30T23:59:59  \n",
       "1  2024-02-16T23:59:59  \n",
       "2  2024-01-31T23:59:59  \n",
       "3  2024-02-25T23:59:59  \n",
       "4  2024-01-13T23:59:59  "
      ]
     },
     "execution_count": 2,
     "metadata": {},
     "output_type": "execute_result"
    }
   ],
   "source": [
    "dataframe = pd.read_csv(\"Data/Production/fourth_case_demographics.csv\")\n",
    "dataframe.head()"
   ]
  },
  {
   "cell_type": "markdown",
   "metadata": {},
   "source": [
    "Из данного датасета нас, по сути, интересует всего 3 столбца - `id`, `expense_all` и `saledate`. Я выбрал именно `expense_all`, а не `expense_in_contract`, т.к. таким образом мы получим более полные данные о тратах клиента. Также столбец с нумерацией нам понадобится для посчёта *Frequency*. От остальных столбцов можно избавиться. Это и сделаем."
   ]
  },
  {
   "cell_type": "code",
   "execution_count": 3,
   "metadata": {},
   "outputs": [],
   "source": [
    "dataframe = dataframe.drop(columns=['gender', 'birthday', 'age', 'agreement_status',\n",
    "                                    'renewal_agreement_status', 'sequence_agreement_number', \n",
    "                                    'expense_in_contract', 'visits_on_contract', 'enddate'], axis=1)"
   ]
  },
  {
   "cell_type": "markdown",
   "metadata": {},
   "source": [
    "Переведём дату продажи контракта в формат datetime."
   ]
  },
  {
   "cell_type": "code",
   "execution_count": 4,
   "metadata": {},
   "outputs": [],
   "source": [
    "dataframe['saledate'] = pd.to_datetime(dataframe['saledate'])"
   ]
  },
  {
   "cell_type": "markdown",
   "metadata": {},
   "source": [
    "Для определения Recency даты будет достаточно, время продажи не обязательно."
   ]
  },
  {
   "cell_type": "code",
   "execution_count": 5,
   "metadata": {},
   "outputs": [],
   "source": [
    "dataframe['saledate'] = dataframe['saledate'].dt.date"
   ]
  },
  {
   "cell_type": "markdown",
   "metadata": {},
   "source": [
    "На всякий случай проверим данные на пропуски."
   ]
  },
  {
   "cell_type": "code",
   "execution_count": 6,
   "metadata": {},
   "outputs": [
    {
     "name": "stdout",
     "output_type": "stream",
     "text": [
      "(5886, 4)\n",
      "(5886, 4)\n"
     ]
    }
   ],
   "source": [
    "print(dataframe.shape)\n",
    "print(dataframe.dropna().shape)"
   ]
  },
  {
   "cell_type": "markdown",
   "metadata": {},
   "source": [
    "## Создание RFM-таблицы"
   ]
  },
  {
   "cell_type": "markdown",
   "metadata": {},
   "source": [
    "Для определения Recency мы должны выявить дату, от которой этот параметр будет определяться. Данные у нас за 2022 год, так что можем взять за точку отсчёта 1 января 2023 года."
   ]
  },
  {
   "cell_type": "code",
   "execution_count": 7,
   "metadata": {},
   "outputs": [],
   "source": [
    "NOW = dt.date(2023, 1, 1)"
   ]
  },
  {
   "cell_type": "markdown",
   "metadata": {},
   "source": [
    "Создадим RFM-таблицу."
   ]
  },
  {
   "cell_type": "code",
   "execution_count": 8,
   "metadata": {},
   "outputs": [],
   "source": [
    "rfmTable = dataframe.groupby('id').agg({'saledate': lambda x: (NOW - x.max()).days, # Recency\n",
    "                                        'Unnamed: 0': lambda x: len(x),      # Frequency\n",
    "                                        'expense_all': lambda x: x.max()}) # Monetary Value\n",
    "\n",
    "rfmTable['saledate'] = rfmTable['saledate'].astype(int)\n",
    "rfmTable.rename(columns={'saledate': 'recency',\n",
    "                         'Unnamed: 0': 'frequency',\n",
    "                         'expense_all': 'monetary_value'}, inplace=True)"
   ]
  },
  {
   "cell_type": "markdown",
   "metadata": {},
   "source": [
    "Посмотрим, как выглядит наша таблица."
   ]
  },
  {
   "cell_type": "code",
   "execution_count": 9,
   "metadata": {},
   "outputs": [
    {
     "data": {
      "text/html": [
       "<div>\n",
       "<style scoped>\n",
       "    .dataframe tbody tr th:only-of-type {\n",
       "        vertical-align: middle;\n",
       "    }\n",
       "\n",
       "    .dataframe tbody tr th {\n",
       "        vertical-align: top;\n",
       "    }\n",
       "\n",
       "    .dataframe thead th {\n",
       "        text-align: right;\n",
       "    }\n",
       "</style>\n",
       "<table border=\"1\" class=\"dataframe\">\n",
       "  <thead>\n",
       "    <tr style=\"text-align: right;\">\n",
       "      <th></th>\n",
       "      <th>recency</th>\n",
       "      <th>frequency</th>\n",
       "      <th>monetary_value</th>\n",
       "    </tr>\n",
       "    <tr>\n",
       "      <th>id</th>\n",
       "      <th></th>\n",
       "      <th></th>\n",
       "      <th></th>\n",
       "    </tr>\n",
       "  </thead>\n",
       "  <tbody>\n",
       "    <tr>\n",
       "      <th>0006fabb-16a9-4209</th>\n",
       "      <td>44</td>\n",
       "      <td>2</td>\n",
       "      <td>22140.82</td>\n",
       "    </tr>\n",
       "    <tr>\n",
       "      <th>0015d3ed-909c-4427</th>\n",
       "      <td>59</td>\n",
       "      <td>1</td>\n",
       "      <td>87809.95</td>\n",
       "    </tr>\n",
       "    <tr>\n",
       "      <th>0027514d-17cd-46a7</th>\n",
       "      <td>123</td>\n",
       "      <td>1</td>\n",
       "      <td>41700.00</td>\n",
       "    </tr>\n",
       "    <tr>\n",
       "      <th>003ad79f-dbfc-4939</th>\n",
       "      <td>102</td>\n",
       "      <td>1</td>\n",
       "      <td>26431.88</td>\n",
       "    </tr>\n",
       "    <tr>\n",
       "      <th>004637b8-28fc-4769</th>\n",
       "      <td>259</td>\n",
       "      <td>1</td>\n",
       "      <td>23713.41</td>\n",
       "    </tr>\n",
       "  </tbody>\n",
       "</table>\n",
       "</div>"
      ],
      "text/plain": [
       "                    recency  frequency  monetary_value\n",
       "id                                                    \n",
       "0006fabb-16a9-4209       44          2        22140.82\n",
       "0015d3ed-909c-4427       59          1        87809.95\n",
       "0027514d-17cd-46a7      123          1        41700.00\n",
       "003ad79f-dbfc-4939      102          1        26431.88\n",
       "004637b8-28fc-4769      259          1        23713.41"
      ]
     },
     "execution_count": 9,
     "metadata": {},
     "output_type": "execute_result"
    }
   ],
   "source": [
    "rfmTable.head()"
   ]
  },
  {
   "cell_type": "markdown",
   "metadata": {},
   "source": [
    "Проверим значения на наличие выбросов."
   ]
  },
  {
   "cell_type": "code",
   "execution_count": 10,
   "metadata": {},
   "outputs": [
    {
     "data": {
      "text/plain": [
       "<Axes: >"
      ]
     },
     "execution_count": 10,
     "metadata": {},
     "output_type": "execute_result"
    },
    {
     "data": {
      "image/png": "[encoded data removed]",
      "text/plain": [
       "<Figure size 640x480 with 1 Axes>"
      ]
     },
     "metadata": {},
     "output_type": "display_data"
    }
   ],
   "source": [
    "rfmTable.boxplot()"
   ]
  },
  {
   "cell_type": "code",
   "execution_count": 11,
   "metadata": {},
   "outputs": [],
   "source": [
    "# rfmTable[rfmTable['frequency'] > 100]"
   ]
  },
  {
   "cell_type": "code",
   "execution_count": 12,
   "metadata": {},
   "outputs": [],
   "source": [
    "# rfmTable[rfmTable['monetary_value'] > 500000]"
   ]
  },
  {
   "cell_type": "markdown",
   "metadata": {},
   "source": [
    "Эти записи слишком сильно выбиваются из общей картины. Лучше их удалить, чтобы анализ был более точным."
   ]
  },
  {
   "cell_type": "code",
   "execution_count": 13,
   "metadata": {},
   "outputs": [],
   "source": [
    "# rfmTable = rfmTable[rfmTable['monetary_value'] < 500000]\n",
    "# rfmTable = rfmTable[rfmTable['frequency'] < 100]"
   ]
  },
  {
   "cell_type": "markdown",
   "metadata": {},
   "source": [
    "## Вычисление квартилей"
   ]
  },
  {
   "cell_type": "markdown",
   "metadata": {},
   "source": [
    "Сегментировать клиентов мы будем именно относительно третилей. Создадим словарь, содержащий третили."
   ]
  },
  {
   "cell_type": "code",
   "execution_count": 14,
   "metadata": {},
   "outputs": [
    {
     "data": {
      "text/plain": [
       "{'recency': {0.33: 108.0, 0.66: 239.0},\n",
       " 'frequency': {0.33: 1.0, 0.66: 1.0},\n",
       " 'monetary_value': {0.33: 26000.0, 0.66: 62186.5}}"
      ]
     },
     "execution_count": 14,
     "metadata": {},
     "output_type": "execute_result"
    }
   ],
   "source": [
    "quartiles = rfmTable.quantile(q=[0.33, 0.66]).to_dict()\n",
    "quartiles"
   ]
  },
  {
   "cell_type": "markdown",
   "metadata": {},
   "source": [
    "Видим, что с третилями у *Frequency* есть проблема. Посмотрим, насколько всё плохо."
   ]
  },
  {
   "cell_type": "code",
   "execution_count": 15,
   "metadata": {},
   "outputs": [
    {
     "data": {
      "text/plain": [
       "count    5251.000000\n",
       "mean        1.120929\n",
       "std         1.642310\n",
       "min         1.000000\n",
       "25%         1.000000\n",
       "50%         1.000000\n",
       "75%         1.000000\n",
       "max       117.000000\n",
       "Name: frequency, dtype: float64"
      ]
     },
     "execution_count": 15,
     "metadata": {},
     "output_type": "execute_result"
    }
   ],
   "source": [
    "rfmTable['frequency'].describe()"
   ]
  },
  {
   "cell_type": "markdown",
   "metadata": {},
   "source": [
    "У **подавляющего** числа записей *frequency* равна 1. Третили, соответственно, найти не получится."
   ]
  },
  {
   "cell_type": "markdown",
   "metadata": {},
   "source": [
    "Я попробовал выравнять значения с помощью различных алгоритмов (K-децильное кодирование, Min-Max Scaling, Логарифмирование), но ни один из методов так и не дал хоть сколько-нибудь удовлетворительных результатов. Мы можем попробовать метод, который, скорее всего, статистически будет не совсем верный. Сегментирование по *frequency* мы будем выполнять не на основе третилей, а на основе задаваемых нами значений. Посмотрим, какие значения присутствуют."
   ]
  },
  {
   "cell_type": "code",
   "execution_count": 16,
   "metadata": {},
   "outputs": [
    {
     "data": {
      "text/plain": [
       "array([  2,   1, 117,   3,   4,   6,   5,   8], dtype=int64)"
      ]
     },
     "execution_count": 16,
     "metadata": {},
     "output_type": "execute_result"
    }
   ],
   "source": [
    "rfmTable['frequency'].unique()"
   ]
  },
  {
   "cell_type": "markdown",
   "metadata": {},
   "source": [
    "С помощью квартилей расставить пороги сегментов у *Frequency* тут не получится. Попробуем сделать это вручную. Расставим пороги так: разовые клиенты имеют *frequency* <= 2; редкие - <= 4; постоянные - 5 и более. Судя по данным, речь идёт о занятиях в спортивно-оздоровительном центре и в таком контексте такие пороговые значения количества контрактов в год звучат вполне реалистично."
   ]
  },
  {
   "cell_type": "code",
   "execution_count": 17,
   "metadata": {},
   "outputs": [],
   "source": [
    "quartiles['frequency'] = {0.33: 2, 0.66: 4}"
   ]
  },
  {
   "cell_type": "markdown",
   "metadata": {},
   "source": [
    "## Сегментация"
   ]
  },
  {
   "cell_type": "markdown",
   "metadata": {},
   "source": [
    "Создадим функции для выполнения сегментации. В нашем случае, каждый параметр будет иметь свою функцию."
   ]
  },
  {
   "cell_type": "code",
   "execution_count": 18,
   "metadata": {},
   "outputs": [],
   "source": [
    "def RClass(x, p, d): # У Recency чем меньше значение - тем для нас лучше\n",
    "    if x <= d[p][0.33]:\n",
    "        return 1\n",
    "    elif x <= d[p][0.66]:\n",
    "        return 2\n",
    "    else: \n",
    "        return 3\n",
    "\n",
    "def FMClass(x,p,d): # С остальными параметрами наоборот\n",
    "    if x <= d[p][0.33]:\n",
    "        return 3\n",
    "    elif x <= d[p][0.66]:\n",
    "        return 2\n",
    "    else: \n",
    "        return 1"
   ]
  },
  {
   "cell_type": "markdown",
   "metadata": {},
   "source": [
    "Применим эти функции к показателям чтобы сегментировать клиентскую базу."
   ]
  },
  {
   "cell_type": "code",
   "execution_count": 19,
   "metadata": {},
   "outputs": [],
   "source": [
    "rfmSegmentation = rfmTable\n",
    "\n",
    "rfmSegmentation['RQ'] = rfmSegmentation['recency'].apply(RClass, args=('recency',quartiles,))\n",
    "rfmSegmentation['FQ'] = rfmSegmentation['frequency'].apply(FMClass, args=('frequency',quartiles,))\n",
    "rfmSegmentation['MQ'] = rfmSegmentation['monetary_value'].apply(FMClass, args=('monetary_value',quartiles,))"
   ]
  },
  {
   "cell_type": "markdown",
   "metadata": {},
   "source": [
    "Из сегментов по каждому из признаков соберём итоговый RFM-класс."
   ]
  },
  {
   "cell_type": "code",
   "execution_count": 20,
   "metadata": {},
   "outputs": [],
   "source": [
    "rfmSegmentation['RFMClass'] = rfmSegmentation.RQ.map(str) \\\n",
    "                            + rfmSegmentation.FQ.map(str) \\\n",
    "                            + rfmSegmentation.MQ.map(str)"
   ]
  },
  {
   "cell_type": "markdown",
   "metadata": {},
   "source": [
    "Теперь можем найти нашего самого ценного клиента."
   ]
  },
  {
   "cell_type": "code",
   "execution_count": 21,
   "metadata": {},
   "outputs": [
    {
     "data": {
      "text/html": [
       "<div>\n",
       "<style scoped>\n",
       "    .dataframe tbody tr th:only-of-type {\n",
       "        vertical-align: middle;\n",
       "    }\n",
       "\n",
       "    .dataframe tbody tr th {\n",
       "        vertical-align: top;\n",
       "    }\n",
       "\n",
       "    .dataframe thead th {\n",
       "        text-align: right;\n",
       "    }\n",
       "</style>\n",
       "<table border=\"1\" class=\"dataframe\">\n",
       "  <thead>\n",
       "    <tr style=\"text-align: right;\">\n",
       "      <th></th>\n",
       "      <th>recency</th>\n",
       "      <th>frequency</th>\n",
       "      <th>monetary_value</th>\n",
       "      <th>RQ</th>\n",
       "      <th>FQ</th>\n",
       "      <th>MQ</th>\n",
       "      <th>RFMClass</th>\n",
       "    </tr>\n",
       "    <tr>\n",
       "      <th>id</th>\n",
       "      <th></th>\n",
       "      <th></th>\n",
       "      <th></th>\n",
       "      <th></th>\n",
       "      <th></th>\n",
       "      <th></th>\n",
       "      <th></th>\n",
       "    </tr>\n",
       "  </thead>\n",
       "  <tbody>\n",
       "    <tr>\n",
       "      <th>27487f0e-8ade-42bd</th>\n",
       "      <td>12</td>\n",
       "      <td>5</td>\n",
       "      <td>119900.00</td>\n",
       "      <td>1</td>\n",
       "      <td>1</td>\n",
       "      <td>1</td>\n",
       "      <td>111</td>\n",
       "    </tr>\n",
       "    <tr>\n",
       "      <th>f6509abd-5ec1-4adc</th>\n",
       "      <td>67</td>\n",
       "      <td>8</td>\n",
       "      <td>66350.00</td>\n",
       "      <td>1</td>\n",
       "      <td>1</td>\n",
       "      <td>1</td>\n",
       "      <td>111</td>\n",
       "    </tr>\n",
       "    <tr>\n",
       "      <th>036c2615-89f2-4094</th>\n",
       "      <td>1</td>\n",
       "      <td>117</td>\n",
       "      <td>166607.64</td>\n",
       "      <td>1</td>\n",
       "      <td>1</td>\n",
       "      <td>1</td>\n",
       "      <td>111</td>\n",
       "    </tr>\n",
       "    <tr>\n",
       "      <th>d67cfcde-da4e-46a9</th>\n",
       "      <td>29</td>\n",
       "      <td>5</td>\n",
       "      <td>117500.00</td>\n",
       "      <td>1</td>\n",
       "      <td>1</td>\n",
       "      <td>1</td>\n",
       "      <td>111</td>\n",
       "    </tr>\n",
       "    <tr>\n",
       "      <th>1be7c783-affc-40d3</th>\n",
       "      <td>42</td>\n",
       "      <td>6</td>\n",
       "      <td>30219.49</td>\n",
       "      <td>1</td>\n",
       "      <td>1</td>\n",
       "      <td>2</td>\n",
       "      <td>112</td>\n",
       "    </tr>\n",
       "    <tr>\n",
       "      <th>...</th>\n",
       "      <td>...</td>\n",
       "      <td>...</td>\n",
       "      <td>...</td>\n",
       "      <td>...</td>\n",
       "      <td>...</td>\n",
       "      <td>...</td>\n",
       "      <td>...</td>\n",
       "    </tr>\n",
       "    <tr>\n",
       "      <th>b113b48b-de56-46ba</th>\n",
       "      <td>277</td>\n",
       "      <td>1</td>\n",
       "      <td>21800.00</td>\n",
       "      <td>3</td>\n",
       "      <td>3</td>\n",
       "      <td>3</td>\n",
       "      <td>333</td>\n",
       "    </tr>\n",
       "    <tr>\n",
       "      <th>b0ee88e7-f6c7-4d79</th>\n",
       "      <td>299</td>\n",
       "      <td>1</td>\n",
       "      <td>0.00</td>\n",
       "      <td>3</td>\n",
       "      <td>3</td>\n",
       "      <td>3</td>\n",
       "      <td>333</td>\n",
       "    </tr>\n",
       "    <tr>\n",
       "      <th>b0ea07ec-27b7-49c5</th>\n",
       "      <td>329</td>\n",
       "      <td>1</td>\n",
       "      <td>3641.00</td>\n",
       "      <td>3</td>\n",
       "      <td>3</td>\n",
       "      <td>3</td>\n",
       "      <td>333</td>\n",
       "    </tr>\n",
       "    <tr>\n",
       "      <th>24cfb3ff-f0b6-4cf0</th>\n",
       "      <td>344</td>\n",
       "      <td>1</td>\n",
       "      <td>24800.00</td>\n",
       "      <td>3</td>\n",
       "      <td>3</td>\n",
       "      <td>3</td>\n",
       "      <td>333</td>\n",
       "    </tr>\n",
       "    <tr>\n",
       "      <th>addf5301-bb84-4896</th>\n",
       "      <td>323</td>\n",
       "      <td>1</td>\n",
       "      <td>0.00</td>\n",
       "      <td>3</td>\n",
       "      <td>3</td>\n",
       "      <td>3</td>\n",
       "      <td>333</td>\n",
       "    </tr>\n",
       "  </tbody>\n",
       "</table>\n",
       "<p>5251 rows × 7 columns</p>\n",
       "</div>"
      ],
      "text/plain": [
       "                    recency  frequency  monetary_value  RQ  FQ  MQ RFMClass\n",
       "id                                                                         \n",
       "27487f0e-8ade-42bd       12          5       119900.00   1   1   1      111\n",
       "f6509abd-5ec1-4adc       67          8        66350.00   1   1   1      111\n",
       "036c2615-89f2-4094        1        117       166607.64   1   1   1      111\n",
       "d67cfcde-da4e-46a9       29          5       117500.00   1   1   1      111\n",
       "1be7c783-affc-40d3       42          6        30219.49   1   1   2      112\n",
       "...                     ...        ...             ...  ..  ..  ..      ...\n",
       "b113b48b-de56-46ba      277          1        21800.00   3   3   3      333\n",
       "b0ee88e7-f6c7-4d79      299          1            0.00   3   3   3      333\n",
       "b0ea07ec-27b7-49c5      329          1         3641.00   3   3   3      333\n",
       "24cfb3ff-f0b6-4cf0      344          1        24800.00   3   3   3      333\n",
       "addf5301-bb84-4896      323          1            0.00   3   3   3      333\n",
       "\n",
       "[5251 rows x 7 columns]"
      ]
     },
     "execution_count": 21,
     "metadata": {},
     "output_type": "execute_result"
    }
   ],
   "source": [
    "rfmSegmentation.sort_values('RFMClass', ascending=True)"
   ]
  },
  {
   "cell_type": "code",
   "execution_count": 22,
   "metadata": {},
   "outputs": [
    {
     "data": {
      "text/plain": [
       "array(['133', '131', '232', '132', '333', '332', '231', '233', '331',\n",
       "       '111', '123', '321', '122', '223', '121', '112', '323', '221',\n",
       "       '222', '322', '213', '113', '212'], dtype=object)"
      ]
     },
     "execution_count": 22,
     "metadata": {},
     "output_type": "execute_result"
    }
   ],
   "source": [
    "rfmSegmentation['RFMClass'].unique()"
   ]
  },
  {
   "cell_type": "markdown",
   "metadata": {},
   "source": [
    "## Визуализация данных"
   ]
  },
  {
   "cell_type": "markdown",
   "metadata": {},
   "source": [
    "Для составления круговой дииаграммы создадим дополнительный датафрейм."
   ]
  },
  {
   "cell_type": "code",
   "execution_count": 23,
   "metadata": {},
   "outputs": [],
   "source": [
    "class_counts = rfmSegmentation[\"RFMClass\"].value_counts().to_frame(name=\"count\")\n",
    "class_counts[\"percentage\"] = class_counts[\"count\"] / rfmSegmentation.shape[0] * 100\n",
    "class_counts.index = class_counts.index.astype(\"str\")\n",
    "labels = [\"{0} ({1:.3f}%)\".format(label, percentage) for label, percentage in zip(class_counts.index, class_counts[\"percentage\"])]"
   ]
  },
  {
   "cell_type": "markdown",
   "metadata": {},
   "source": [
    "Выведем круговую диаграмму."
   ]
  },
  {
   "cell_type": "code",
   "execution_count": 25,
   "metadata": {},
   "outputs": [
    {
     "data": {
      "image/png": "[encoded data removed]",
      "text/plain": [
       "<Figure size 1000x1000 with 1 Axes>"
      ]
     },
     "metadata": {},
     "output_type": "display_data"
    }
   ],
   "source": [
    "plt.figure(figsize=(10, 10))\n",
    "plt.pie(class_counts[\"percentage\"],labels=labels)\n",
    "plt.show()"
   ]
  }
 ],
 "metadata": {
  "kernelspec": {
   "display_name": ".venv",
   "language": "python",
   "name": "python3"
  },
  "language_info": {
   "codemirror_mode": {
    "name": "ipython",
    "version": 3
   },
   "file_extension": ".py",
   "mimetype": "text/x-python",
   "name": "python",
   "nbconvert_exporter": "python",
   "pygments_lexer": "ipython3",
   "version": "3.12.2"
  }
 },
 "nbformat": 4,
 "nbformat_minor": 2
}
